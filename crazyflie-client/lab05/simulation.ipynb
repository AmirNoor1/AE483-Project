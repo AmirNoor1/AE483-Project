{
 "cells": [
  {
   "cell_type": "markdown",
   "id": "f4233d19",
   "metadata": {},
   "source": [
    "# 1. Set up the notebook"
   ]
  },
  {
   "cell_type": "markdown",
   "id": "38bcc561",
   "metadata": {},
   "source": [
    "Import all the modules we need."
   ]
  },
  {
   "cell_type": "code",
   "execution_count": 1,
   "id": "294d9f2d",
   "metadata": {},
   "outputs": [],
   "source": [
    "# These are standard modules\n",
    "import numpy as np\n",
    "import sympy as sym\n",
    "import matplotlib.pyplot as plt\n",
    "\n",
    "# This is a custom interface to the pybullet simulator\n",
    "import ae483_drone"
   ]
  },
  {
   "cell_type": "markdown",
   "id": "984b36e3",
   "metadata": {},
   "source": [
    "# 2. Start the simulator"
   ]
  },
  {
   "cell_type": "markdown",
   "id": "environmental-refrigerator",
   "metadata": {},
   "source": [
    "Create an instance of the `Simulator` class, which is an interface to the [pybullet](http://pybullet.org) simulation engine.\n",
    "\n",
    "There are three optional arguments:\n",
    "\n",
    "* `display` (`True` or `False`) is whether or not to show the simulation window - if you are recording videos or generating data, it is faster not to show the window;\n",
    "* `width` and `height` (positive integers) are the dimensions of the simulation window - these will also be the dimensions of snapshots or videos that are generated.\n",
    "\n",
    "**You must evaluate this cell only *once*.** If you want to start fresh with a new simulator, you must do `Kernel -> Restart` from the notebook menu first. If you evaluate this cell more than once without a call to `Kernel -> Restart` then you may get strange behavior that is hard to debug. (If you would like to help eliminate this strange behavior - which is a consequence of issues with how pybullet interacts with MacOS - by contributing to the pybullet open-source project, contact [Prof. Bretl](mailto:tbretl@illinois.edu).)"
   ]
  },
  {
   "cell_type": "code",
   "execution_count": 2,
   "id": "needed-motion",
   "metadata": {},
   "outputs": [],
   "source": [
    "simulator = ae483_drone.Simulator(\n",
    "    display=True,\n",
    "    width=640,\n",
    "    height=480,\n",
    ")"
   ]
  },
  {
   "cell_type": "markdown",
   "id": "83a63688",
   "metadata": {},
   "source": [
    "# 3. Run experiments"
   ]
  },
  {
   "cell_type": "markdown",
   "id": "eff640f6",
   "metadata": {},
   "source": [
    "## 3.x Flight test (template)\n",
    "\n",
    "Each time you duplicate this section, replace the title with a brief description of your current flight test."
   ]
  },
  {
   "cell_type": "markdown",
   "id": "c14ba205",
   "metadata": {},
   "source": [
    "### 3.x.1 Create a client"
   ]
  },
  {
   "cell_type": "markdown",
   "id": "f024dedc",
   "metadata": {},
   "source": [
    "The \"client\" specifies the desired position and yaw angle at a given time."
   ]
  },
  {
   "cell_type": "code",
   "execution_count": 42,
   "id": "42ad54f2",
   "metadata": {},
   "outputs": [],
   "source": [
    "class RobotClient:\n",
    "    def __init__(self):\n",
    "        pass\n",
    "    \n",
    "    def run(self, t):\n",
    "        o_x = 0.\n",
    "        o_y = 0.\n",
    "        o_z = 0.3\n",
    "        psi = 0.\n",
    "        \n",
    "        return {\n",
    "            'o_x': o_x,\n",
    "            'o_y': o_y,\n",
    "            'o_z': o_z,\n",
    "            'psi': psi,\n",
    "        }"
   ]
  },
  {
   "cell_type": "markdown",
   "id": "69e0059f",
   "metadata": {},
   "source": [
    "### 3.x.2 Create a controller"
   ]
  },
  {
   "cell_type": "markdown",
   "id": "3af95b62",
   "metadata": {},
   "source": [
    "The \"controller\" specifies the motor power commands at a given state and setpoint."
   ]
  },
  {
   "cell_type": "code",
   "execution_count": 43,
   "id": "c47dd8c5",
   "metadata": {},
   "outputs": [],
   "source": [
    "class RobotController:\n",
    "    def __init__(self):\n",
    "        pass\n",
    "\n",
    "    def limitUint16(self, m):\n",
    "        \"\"\"\n",
    "        This function returns the closest integer to \"m\" in the\n",
    "        range [0, 65535]. It is called \"limitUint16\" because an\n",
    "        \"unsigned 16-bit integer\" is limited to this range.\n",
    "        \"\"\"\n",
    "        m = np.round(m, decimals=0)\n",
    "        if m < 0:\n",
    "            m = 0\n",
    "        elif m > 65535:\n",
    "            m = 65535\n",
    "        return m\n",
    "\n",
    "    def run(self, state, setpoint):\n",
    "        # Parse state\n",
    "        o_x = state['o_x']\n",
    "        o_y = state['o_y']\n",
    "        o_z = state['o_z']\n",
    "        psi = state['psi']\n",
    "        theta = state['theta']\n",
    "        phi = state['phi']\n",
    "        v_x = state['v_x']\n",
    "        v_y = state['v_y']\n",
    "        v_z = state['v_z']\n",
    "        w_x = state['w_x']\n",
    "        w_y = state['w_y']\n",
    "        w_z = state['w_z']\n",
    "        \n",
    "        # Parse setpoint\n",
    "        o_x_des = setpoint['o_x']\n",
    "        o_y_des = setpoint['o_y']\n",
    "        o_z_des = setpoint['o_z']\n",
    "        \n",
    "        # FIXME: Add code here to compute net torques and net force\n",
    "        #\n",
    "        tau_x = 1.00000000 * (o_y - o_y_des) -5.42963060 * phi + 1.45153654 * v_y -1.00007004 * w_x\n",
    "        tau_y = -1.00000000 * (o_x - o_x_des) -5.42963630 * theta -1.45153694 * v_x -1.00007221 * w_y\n",
    "        tau_z = -1.00000000 * psi -1.00002700 * w_z\n",
    "        f_z = -1.00000000 * (o_z - o_z_des) -1.03111590 * v_z + 0.30999600\n",
    "\n",
    "        # FIXME: Replace code here to compute motor power commands\n",
    "        m_1 = self.limitUint16( -4595588.2 * tau_x -4595588.2 * tau_y -63291139.2 * tau_z + 147058.8 * f_z )\n",
    "        m_2 = self.limitUint16( -4595588.2 * tau_x + 4595588.2 * tau_y + 63291139.2 * tau_z + 147058.8 * f_z )\n",
    "        m_3 = self.limitUint16( 4595588.2 * tau_x + 4595588.2 * tau_y -63291139.2 * tau_z + 147058.8 * f_z )\n",
    "        m_4 = self.limitUint16( 4595588.2 * tau_x -4595588.2 * tau_y + 63291139.2 * tau_z + 147058.8 * f_z )\n",
    "        \n",
    "        return m_1, m_2, m_3, m_4"
   ]
  },
  {
   "cell_type": "markdown",
   "id": "2dcf7ea9",
   "metadata": {},
   "source": [
    "### 3.x.3 Add a drone with this client and controller to the simulator"
   ]
  },
  {
   "cell_type": "markdown",
   "id": "aa5c5227",
   "metadata": {},
   "source": [
    "Remove all existing drones from the simulator."
   ]
  },
  {
   "cell_type": "code",
   "execution_count": 44,
   "id": "cbdb7f30",
   "metadata": {},
   "outputs": [],
   "source": [
    "simulator.clear_drones()"
   ]
  },
  {
   "cell_type": "markdown",
   "id": "e0016dd8",
   "metadata": {},
   "source": [
    "Add a new drone to the simulator.\n",
    "\n",
    "There are three required arguments:\n",
    "\n",
    "* the name of the drone (a string), for example `my_drone`\n",
    "* the class that defines the client, for example `RobotClient`\n",
    "* the class that defines the controller, for example `RobotController`\n",
    "\n",
    "There is one optional argument that allows you to change the appearance of the drone (if you want) - this is useful if you simulate more than one drone at a time:\n",
    "\n",
    "* `rgba` is a list of four numbers between 0 and 1 (red, green, blue, alpha) that define an [RGBA color](https://en.wikipedia.org/wiki/RGBA_color_model)\n",
    "\n",
    "There are eight optional arguments that allow you to change the physical parameters that govern the drone (mass, moments of inertia, and so forth). You **must** change the values of these arguments if you want the simulated drone to match your real drone.\n",
    "\n",
    "* `m`, `J_x`, `J_y`, `J_z`, `g`, `l`, `k_F`, `k_M` are scalar parameters"
   ]
  },
  {
   "cell_type": "code",
   "execution_count": 45,
   "id": "4284b69c",
   "metadata": {},
   "outputs": [],
   "source": [
    "simulator.add_drone(\n",
    "    'my_drone',\n",
    "    RobotClient,\n",
    "    RobotController,\n",
    "    rgba=[1., 0., 1., 1.],\n",
    "    m = 0.0316,   # <-- FIXME\n",
    "    J_x = 1.29e-05,  # <-- FIXME\n",
    "    J_y = 1.33e-05,  # <-- FIXME\n",
    "    J_z = 2.70e-05,  # <-- FIXME\n",
    "    g=9.81,\n",
    "    l=0.032,   # <-- FIXME\n",
    "    k_F=1.70e-6,  # <-- FIXME\n",
    "    k_M=3.95e-9,  # <-- FIXME\n",
    ")"
   ]
  },
  {
   "cell_type": "markdown",
   "id": "9526c7f7",
   "metadata": {},
   "source": [
    "Set the initial state of this drone. Here, as an example, we start the drone near the desired position that was specified by the client."
   ]
  },
  {
   "cell_type": "code",
   "execution_count": 46,
   "id": "0955fbd5",
   "metadata": {},
   "outputs": [],
   "source": [
    "simulator.set_state(\n",
    "    'my_drone',\n",
    "    {\n",
    "        'o_x': 0.01,\n",
    "        'o_y': -0.02,\n",
    "        'o_z': 0.27,\n",
    "        'psi': 0.,\n",
    "        'theta': 0.,\n",
    "        'phi': 0.,\n",
    "        'v_x': 0.,\n",
    "        'v_y': 0.,\n",
    "        'v_z': 0.,\n",
    "        'w_x': 0.,\n",
    "        'w_y': 0.,\n",
    "        'w_z': 0.,\n",
    "    },\n",
    ")"
   ]
  },
  {
   "cell_type": "markdown",
   "id": "df4de6e0",
   "metadata": {},
   "source": [
    "You could repeat this process to add more drones, if you want to test more than one client and controller (or more than one initial state) at a time."
   ]
  },
  {
   "cell_type": "markdown",
   "id": "138dd047",
   "metadata": {},
   "source": [
    "### 3.x.4 Set the camera view (optional)"
   ]
  },
  {
   "cell_type": "markdown",
   "id": "0897847f",
   "metadata": {},
   "source": [
    "Here is how to make the camera always look at a certain point (in this case, a point that is 0.3 meters above the origin of the world frame):"
   ]
  },
  {
   "cell_type": "code",
   "execution_count": 47,
   "id": "684e3083",
   "metadata": {},
   "outputs": [],
   "source": [
    "simulator.set_camera_target([0.0, 0.0, 0.3])"
   ]
  },
  {
   "cell_type": "markdown",
   "id": "b8d4e1e9",
   "metadata": {},
   "source": [
    "Here is how to make the camera always look at a certain drone (in this case, the one called `my_drone`):"
   ]
  },
  {
   "cell_type": "code",
   "execution_count": 48,
   "id": "5e659102",
   "metadata": {},
   "outputs": [],
   "source": [
    "simulator.set_camera_target('my_drone')"
   ]
  },
  {
   "cell_type": "markdown",
   "id": "870f13f0",
   "metadata": {},
   "source": [
    "Here is how to get a top view:"
   ]
  },
  {
   "cell_type": "code",
   "execution_count": 49,
   "id": "aa5e4942",
   "metadata": {},
   "outputs": [],
   "source": [
    "simulator.camera_topview()"
   ]
  },
  {
   "cell_type": "markdown",
   "id": "27316abd",
   "metadata": {},
   "source": [
    "Here is how to get a side view:"
   ]
  },
  {
   "cell_type": "code",
   "execution_count": 50,
   "id": "614c3386",
   "metadata": {},
   "outputs": [],
   "source": [
    "simulator.camera_sideview()"
   ]
  },
  {
   "cell_type": "markdown",
   "id": "7676ffe0",
   "metadata": {},
   "source": [
    "Here is how to change the yaw angle of the camera (i.e., to make the camera rotate about the point it is looking at):"
   ]
  },
  {
   "cell_type": "code",
   "execution_count": 51,
   "id": "e77ea536",
   "metadata": {},
   "outputs": [],
   "source": [
    "simulator.set_camera_yaw(45)"
   ]
  },
  {
   "cell_type": "markdown",
   "id": "fc3cf1e2",
   "metadata": {},
   "source": [
    "Here is how to change the distance between the camera and the point it is looking at:"
   ]
  },
  {
   "cell_type": "code",
   "execution_count": 52,
   "id": "c058d3d8",
   "metadata": {},
   "outputs": [],
   "source": [
    "simulator.set_camera_distance(1.0)"
   ]
  },
  {
   "cell_type": "markdown",
   "id": "e005e98e",
   "metadata": {},
   "source": [
    "### 3.x.5 Run the simulator"
   ]
  },
  {
   "cell_type": "markdown",
   "id": "5d2ca83b",
   "metadata": {},
   "source": [
    "Here is how to run the simulator for 10 seconds while saving data to the file `simulation_x_data.json` and saving video to the file `simulation_x_video.json`.\n",
    "\n",
    "If you do not need to save video and want this to run much faster, then specify `video_filename=None`."
   ]
  },
  {
   "cell_type": "code",
   "execution_count": 53,
   "id": "b6d278dd",
   "metadata": {},
   "outputs": [
    {
     "name": "stdout",
     "output_type": "stream",
     "text": [
      "Creating a video with name simulation_x_video.mov and fps 100\n",
      " 100 / 1000\n",
      " 200 / 1000\n"
     ]
    },
    {
     "ename": "KeyboardInterrupt",
     "evalue": "",
     "output_type": "error",
     "traceback": [
      "\u001b[1;31m---------------------------------------------------------------------------\u001b[0m",
      "\u001b[1;31mKeyboardInterrupt\u001b[0m                         Traceback (most recent call last)",
      "Cell \u001b[1;32mIn[53], line 1\u001b[0m\n\u001b[1;32m----> 1\u001b[0m \u001b[43msimulator\u001b[49m\u001b[38;5;241;43m.\u001b[39;49m\u001b[43mrun\u001b[49m\u001b[43m(\u001b[49m\n\u001b[0;32m      2\u001b[0m \u001b[43m    \u001b[49m\u001b[43mmax_time\u001b[49m\u001b[38;5;241;43m=\u001b[39;49m\u001b[38;5;241;43m10.\u001b[39;49m\u001b[43m,\u001b[49m\n\u001b[0;32m      3\u001b[0m \u001b[43m    \u001b[49m\u001b[43mdata_filename\u001b[49m\u001b[38;5;241;43m=\u001b[39;49m\u001b[38;5;124;43m'\u001b[39;49m\u001b[38;5;124;43msimulation_x_data.json\u001b[39;49m\u001b[38;5;124;43m'\u001b[39;49m\u001b[43m,\u001b[49m\n\u001b[0;32m      4\u001b[0m \u001b[43m    \u001b[49m\u001b[43mvideo_filename\u001b[49m\u001b[38;5;241;43m=\u001b[39;49m\u001b[38;5;124;43m'\u001b[39;49m\u001b[38;5;124;43msimulation_x_video.mov\u001b[39;49m\u001b[38;5;124;43m'\u001b[39;49m\u001b[43m,\u001b[49m\n\u001b[0;32m      5\u001b[0m \u001b[43m)\u001b[49m\n",
      "File \u001b[1;32m~\\OneDrive\\Documents\\UIUC-FA_23\\AE483\\crazyflie-client\\lab05\\ae483_drone.py:334\u001b[0m, in \u001b[0;36mSimulator.run\u001b[1;34m(self, max_time, data_filename, video_filename)\u001b[0m\n\u001b[0;32m    331\u001b[0m     w\u001b[38;5;241m.\u001b[39mappend_data(rgba)\n\u001b[0;32m    333\u001b[0m \u001b[38;5;28;01mwhile\u001b[39;00m \u001b[38;5;28;01mTrue\u001b[39;00m:\n\u001b[1;32m--> 334\u001b[0m     all_done \u001b[38;5;241m=\u001b[39m \u001b[38;5;28;43mself\u001b[39;49m\u001b[38;5;241;43m.\u001b[39;49m\u001b[43mstep\u001b[49m\u001b[43m(\u001b[49m\u001b[43m)\u001b[49m\n\u001b[0;32m    336\u001b[0m     \u001b[38;5;28;01mif\u001b[39;00m video_filename \u001b[38;5;129;01mis\u001b[39;00m \u001b[38;5;129;01mnot\u001b[39;00m \u001b[38;5;28;01mNone\u001b[39;00m:\n\u001b[0;32m    337\u001b[0m         \u001b[38;5;28;01mif\u001b[39;00m \u001b[38;5;28mself\u001b[39m\u001b[38;5;241m.\u001b[39mtime_step \u001b[38;5;241m%\u001b[39m \u001b[38;5;241m100\u001b[39m \u001b[38;5;241m==\u001b[39m \u001b[38;5;241m0\u001b[39m:\n",
      "File \u001b[1;32m~\\OneDrive\\Documents\\UIUC-FA_23\\AE483\\crazyflie-client\\lab05\\ae483_drone.py:388\u001b[0m, in \u001b[0;36mSimulator.step\u001b[1;34m(self)\u001b[0m\n\u001b[0;32m    385\u001b[0m all_done \u001b[38;5;241m=\u001b[39m \u001b[38;5;28;01mFalse\u001b[39;00m\n\u001b[0;32m    387\u001b[0m \u001b[38;5;66;03m# get state\u001b[39;00m\n\u001b[1;32m--> 388\u001b[0m state \u001b[38;5;241m=\u001b[39m \u001b[38;5;28;43mself\u001b[39;49m\u001b[38;5;241;43m.\u001b[39;49m\u001b[43mget_state\u001b[49m\u001b[43m(\u001b[49m\u001b[43mdrone\u001b[49m\u001b[43m)\u001b[49m\n\u001b[0;32m    390\u001b[0m \u001b[38;5;66;03m# get actuator commands\u001b[39;00m\n\u001b[0;32m    391\u001b[0m \u001b[38;5;28;01mtry\u001b[39;00m:\n",
      "File \u001b[1;32m~\\OneDrive\\Documents\\UIUC-FA_23\\AE483\\crazyflie-client\\lab05\\ae483_drone.py:252\u001b[0m, in \u001b[0;36mSimulator.get_state\u001b[1;34m(self, drone)\u001b[0m\n\u001b[0;32m    250\u001b[0m rpy \u001b[38;5;241m=\u001b[39m pybullet\u001b[38;5;241m.\u001b[39mgetEulerFromQuaternion(ori)\n\u001b[0;32m    251\u001b[0m vel \u001b[38;5;241m=\u001b[39m pybullet\u001b[38;5;241m.\u001b[39mgetBaseVelocity(drone[\u001b[38;5;124m'\u001b[39m\u001b[38;5;124mid\u001b[39m\u001b[38;5;124m'\u001b[39m])\n\u001b[1;32m--> 252\u001b[0m v_world \u001b[38;5;241m=\u001b[39m \u001b[43mnp\u001b[49m\u001b[38;5;241;43m.\u001b[39;49m\u001b[43marray\u001b[49m\u001b[43m(\u001b[49m\u001b[43mvel\u001b[49m\u001b[43m[\u001b[49m\u001b[38;5;241;43m0\u001b[39;49m\u001b[43m]\u001b[49m\u001b[43m)\u001b[49m\n\u001b[0;32m    253\u001b[0m w_world \u001b[38;5;241m=\u001b[39m np\u001b[38;5;241m.\u001b[39marray(vel[\u001b[38;5;241m1\u001b[39m])\n\u001b[0;32m    254\u001b[0m R_body_in_world \u001b[38;5;241m=\u001b[39m np\u001b[38;5;241m.\u001b[39mreshape(np\u001b[38;5;241m.\u001b[39marray(pybullet\u001b[38;5;241m.\u001b[39mgetMatrixFromQuaternion(ori)), (\u001b[38;5;241m3\u001b[39m, \u001b[38;5;241m3\u001b[39m))\n",
      "\u001b[1;31mKeyboardInterrupt\u001b[0m: "
     ]
    }
   ],
   "source": [
    "simulator.run(\n",
    "    max_time=10.,\n",
    "    data_filename='simulation_x_data.json',\n",
    "    video_filename='simulation_x_video.mov',\n",
    ")"
   ]
  },
  {
   "cell_type": "markdown",
   "id": "c3bc1a54",
   "metadata": {},
   "source": [
    "Be careful! Both the data file and the video file will be overwritten if they already exist. We suggest you use a different name for each experiment."
   ]
  },
  {
   "cell_type": "markdown",
   "id": "31cedf5f",
   "metadata": {},
   "source": [
    "# Flight test 2"
   ]
  },
  {
   "cell_type": "markdown",
   "id": "c2f93061",
   "metadata": {},
   "source": [
    "## 3.x Flight test (template)\n",
    "\n",
    "Each time you duplicate this section, replace the title with a brief description of your current flight test."
   ]
  },
  {
   "cell_type": "markdown",
   "id": "0b4c3dac",
   "metadata": {},
   "source": [
    "### 3.x.1 Create a client"
   ]
  },
  {
   "cell_type": "markdown",
   "id": "264bfab0",
   "metadata": {},
   "source": [
    "The \"client\" specifies the desired position and yaw angle at a given time."
   ]
  },
  {
   "cell_type": "code",
   "execution_count": 27,
   "id": "ff588162",
   "metadata": {},
   "outputs": [],
   "source": [
    "class RobotClient:\n",
    "    def __init__(self):\n",
    "        pass\n",
    "    \n",
    "    def run(self, t):\n",
    "        o_x = 0.\n",
    "        o_y = 0.\n",
    "        o_z = 0.3\n",
    "        psi = 0.\n",
    "        \n",
    "        return {\n",
    "            'o_x': o_x,\n",
    "            'o_y': o_y,\n",
    "            'o_z': o_z,\n",
    "            'psi': psi,\n",
    "        }"
   ]
  },
  {
   "cell_type": "markdown",
   "id": "4e728ee2",
   "metadata": {},
   "source": [
    "### 3.x.2 Create a controller"
   ]
  },
  {
   "cell_type": "markdown",
   "id": "25c13a11",
   "metadata": {},
   "source": [
    "The \"controller\" specifies the motor power commands at a given state and setpoint."
   ]
  },
  {
   "cell_type": "code",
   "execution_count": 204,
   "id": "ca1c23f4",
   "metadata": {},
   "outputs": [],
   "source": [
    "class RobotController:\n",
    "    def __init__(self):\n",
    "        pass\n",
    "\n",
    "    def limitUint16(self, m):\n",
    "        \"\"\"\n",
    "        This function returns the closest integer to \"m\" in the\n",
    "        range [0, 65535]. It is called \"limitUint16\" because an\n",
    "        \"unsigned 16-bit integer\" is limited to this range.\n",
    "        \"\"\"\n",
    "        m = np.round(m, decimals=0)\n",
    "        if m < 0:\n",
    "            m = 0\n",
    "        elif m > 65535:\n",
    "            m = 65535\n",
    "        return m\n",
    "\n",
    "    def run(self, state, setpoint):\n",
    "        # Parse state\n",
    "        o_x = state['o_x']\n",
    "        o_y = state['o_y']\n",
    "        o_z = state['o_z']\n",
    "        psi = state['psi']\n",
    "        theta = state['theta']\n",
    "        phi = state['phi']\n",
    "        v_x = state['v_x']\n",
    "        v_y = state['v_y']\n",
    "        v_z = state['v_z']\n",
    "        w_x = state['w_x']\n",
    "        w_y = state['w_y']\n",
    "        w_z = state['w_z']\n",
    "        \n",
    "        # Parse setpoint\n",
    "        o_x_des = setpoint['o_x']\n",
    "        o_y_des = setpoint['o_y']\n",
    "        o_z_des = setpoint['o_z']\n",
    "        \n",
    "        # FIXME: Add code here to compute net torques and net force\n",
    "        tau_x = 0.00137260 * (o_y - o_y_des) -0.00763465 * phi + 0.00200512 * v_y -0.00144257 * w_x\n",
    "        tau_y = -0.00137260 * (o_x - o_x_des) -0.00764025 * theta -0.00200551 * v_x -0.00144474 * w_y\n",
    "        tau_z = -0.00009966 * psi -0.00012375 * w_z\n",
    "        f_z = -0.13564200 * (o_z - o_z_des) -0.16422949 * v_z + 0.30999600\n",
    "                # FIXME: Replace code here to compute motor power commands\n",
    "        m_1 = self.limitUint16( -4595588.2 * tau_x -4595588.2 * tau_y -63291139.2 * tau_z + 147058.8 * f_z )\n",
    "        m_2 = self.limitUint16( -4595588.2 * tau_x + 4595588.2 * tau_y + 63291139.2 * tau_z + 147058.8 * f_z )\n",
    "        m_3 = self.limitUint16( 4595588.2 * tau_x + 4595588.2 * tau_y -63291139.2 * tau_z + 147058.8 * f_z )\n",
    "        m_4 = self.limitUint16( 4595588.2 * tau_x -4595588.2 * tau_y + 63291139.2 * tau_z + 147058.8 * f_z )\n",
    "        \n",
    "        return m_1, m_2, m_3, m_4"
   ]
  },
  {
   "cell_type": "markdown",
   "id": "9a8fd0d1",
   "metadata": {},
   "source": [
    "### 3.x.3 Add a drone with this client and controller to the simulator"
   ]
  },
  {
   "cell_type": "markdown",
   "id": "9aa4239b",
   "metadata": {},
   "source": [
    "Remove all existing drones from the simulator."
   ]
  },
  {
   "cell_type": "code",
   "execution_count": 205,
   "id": "32cf78f4",
   "metadata": {},
   "outputs": [],
   "source": [
    "simulator.clear_drones()"
   ]
  },
  {
   "cell_type": "markdown",
   "id": "f41c0257",
   "metadata": {},
   "source": [
    "Add a new drone to the simulator.\n",
    "\n",
    "There are three required arguments:\n",
    "\n",
    "* the name of the drone (a string), for example `my_drone`\n",
    "* the class that defines the client, for example `RobotClient`\n",
    "* the class that defines the controller, for example `RobotController`\n",
    "\n",
    "There is one optional argument that allows you to change the appearance of the drone (if you want) - this is useful if you simulate more than one drone at a time:\n",
    "\n",
    "* `rgba` is a list of four numbers between 0 and 1 (red, green, blue, alpha) that define an [RGBA color](https://en.wikipedia.org/wiki/RGBA_color_model)\n",
    "\n",
    "There are eight optional arguments that allow you to change the physical parameters that govern the drone (mass, moments of inertia, and so forth). You **must** change the values of these arguments if you want the simulated drone to match your real drone.\n",
    "\n",
    "* `m`, `J_x`, `J_y`, `J_z`, `g`, `l`, `k_F`, `k_M` are scalar parameters"
   ]
  },
  {
   "cell_type": "code",
   "execution_count": 206,
   "id": "6e177797",
   "metadata": {},
   "outputs": [],
   "source": [
    "simulator.add_drone(\n",
    "    'my_drone',\n",
    "    RobotClient,\n",
    "    RobotController,\n",
    "    rgba=[1., 0., 1., 1.],\n",
    "    m = 0.0316,   # <-- FIXME\n",
    "    J_x = 1.29e-05,  # <-- FIXME\n",
    "    J_y = 1.33e-05,  # <-- FIXME\n",
    "    J_z = 2.70e-05,  # <-- FIXME\n",
    "    g=9.81,\n",
    "    l=0.032,   # <-- FIXME\n",
    "    k_F=1.70e-6,  # <-- FIXME\n",
    "    k_M=3.95e-9,  # <-- FIXME\n",
    ")"
   ]
  },
  {
   "cell_type": "markdown",
   "id": "4e0ccb17",
   "metadata": {},
   "source": [
    "Set the initial state of this drone. Here, as an example, we start the drone near the desired position that was specified by the client."
   ]
  },
  {
   "cell_type": "code",
   "execution_count": 207,
   "id": "d1e4ad5e",
   "metadata": {},
   "outputs": [],
   "source": [
    "simulator.set_state(\n",
    "    'my_drone',\n",
    "    {\n",
    "        'o_x': 0.01,\n",
    "        'o_y': -0.02,\n",
    "        'o_z': 0.27,\n",
    "        'psi': 0.,\n",
    "        'theta': 0.,\n",
    "        'phi': 0.,\n",
    "        'v_x': 0.,\n",
    "        'v_y': 0.,\n",
    "        'v_z': 0.,\n",
    "        'w_x': 0.,\n",
    "        'w_y': 0.,\n",
    "        'w_z': 0.,\n",
    "    },\n",
    ")"
   ]
  },
  {
   "cell_type": "markdown",
   "id": "f466ccdf",
   "metadata": {},
   "source": [
    "You could repeat this process to add more drones, if you want to test more than one client and controller (or more than one initial state) at a time."
   ]
  },
  {
   "cell_type": "markdown",
   "id": "2c76d650",
   "metadata": {},
   "source": [
    "### 3.x.4 Set the camera view (optional)"
   ]
  },
  {
   "cell_type": "markdown",
   "id": "ada45b3b",
   "metadata": {},
   "source": [
    "Here is how to make the camera always look at a certain point (in this case, a point that is 0.3 meters above the origin of the world frame):"
   ]
  },
  {
   "cell_type": "code",
   "execution_count": 208,
   "id": "b8f1b67c",
   "metadata": {},
   "outputs": [],
   "source": [
    "simulator.set_camera_target([0.0, 0.0, 0.3])"
   ]
  },
  {
   "cell_type": "markdown",
   "id": "4ca943a7",
   "metadata": {},
   "source": [
    "Here is how to make the camera always look at a certain drone (in this case, the one called `my_drone`):"
   ]
  },
  {
   "cell_type": "code",
   "execution_count": 209,
   "id": "30671698",
   "metadata": {},
   "outputs": [],
   "source": [
    "simulator.set_camera_target('my_drone')"
   ]
  },
  {
   "cell_type": "markdown",
   "id": "d85d9ae5",
   "metadata": {},
   "source": [
    "Here is how to get a top view:"
   ]
  },
  {
   "cell_type": "code",
   "execution_count": 210,
   "id": "ca33465f",
   "metadata": {},
   "outputs": [],
   "source": [
    "simulator.camera_topview()"
   ]
  },
  {
   "cell_type": "markdown",
   "id": "b711f09e",
   "metadata": {},
   "source": [
    "Here is how to get a side view:"
   ]
  },
  {
   "cell_type": "code",
   "execution_count": 211,
   "id": "a4e4f8b4",
   "metadata": {},
   "outputs": [],
   "source": [
    "simulator.camera_sideview()"
   ]
  },
  {
   "cell_type": "markdown",
   "id": "a681eb2b",
   "metadata": {},
   "source": [
    "Here is how to change the yaw angle of the camera (i.e., to make the camera rotate about the point it is looking at):"
   ]
  },
  {
   "cell_type": "code",
   "execution_count": 212,
   "id": "863f6104",
   "metadata": {},
   "outputs": [],
   "source": [
    "simulator.set_camera_yaw(45)"
   ]
  },
  {
   "cell_type": "markdown",
   "id": "8a9b1e02",
   "metadata": {},
   "source": [
    "Here is how to change the distance between the camera and the point it is looking at:"
   ]
  },
  {
   "cell_type": "code",
   "execution_count": 213,
   "id": "5f380fe7",
   "metadata": {},
   "outputs": [],
   "source": [
    "simulator.set_camera_distance(1.0)"
   ]
  },
  {
   "cell_type": "markdown",
   "id": "681aec5d",
   "metadata": {},
   "source": [
    "### 3.x.5 Run the simulator"
   ]
  },
  {
   "cell_type": "markdown",
   "id": "67195bdc",
   "metadata": {},
   "source": [
    "Here is how to run the simulator for 10 seconds while saving data to the file `simulation_x_data.json` and saving video to the file `simulation_x_video.json`.\n",
    "\n",
    "If you do not need to save video and want this to run much faster, then specify `video_filename=None`."
   ]
  },
  {
   "cell_type": "code",
   "execution_count": 214,
   "id": "f8526f69",
   "metadata": {},
   "outputs": [
    {
     "name": "stdout",
     "output_type": "stream",
     "text": [
      "Creating a video with name simulation_x_video.mov and fps 100\n",
      " 100 / 1000\n",
      " 200 / 1000\n",
      " 300 / 1000\n",
      " 400 / 1000\n",
      " 500 / 1000\n",
      " 600 / 1000\n",
      " 700 / 1000\n",
      " 800 / 1000\n",
      " 900 / 1000\n",
      " 1000 / 1000\n",
      "Completed 1000 time steps in 91.9392 seconds (10.8768 time steps per second)\n"
     ]
    }
   ],
   "source": [
    "simulator.run(\n",
    "    max_time=10.,\n",
    "    data_filename='simulation_x_data.json',\n",
    "    video_filename='simulation_x_video.mov',\n",
    ")"
   ]
  },
  {
   "cell_type": "markdown",
   "id": "28db6c97",
   "metadata": {},
   "source": [
    "Be careful! Both the data file and the video file will be overwritten if they already exist. We suggest you use a different name for each experiment."
   ]
  },
  {
   "cell_type": "code",
   "execution_count": null,
   "id": "b3b6adda",
   "metadata": {},
   "outputs": [],
   "source": []
  }
 ],
 "metadata": {
  "kernelspec": {
   "display_name": "Python 3 (ipykernel)",
   "language": "python",
   "name": "python3"
  },
  "language_info": {
   "codemirror_mode": {
    "name": "ipython",
    "version": 3
   },
   "file_extension": ".py",
   "mimetype": "text/x-python",
   "name": "python",
   "nbconvert_exporter": "python",
   "pygments_lexer": "ipython3",
   "version": "3.10.12"
  }
 },
 "nbformat": 4,
 "nbformat_minor": 5
}
